{
 "cells": [
  {
   "cell_type": "code",
   "execution_count": 2,
   "metadata": {},
   "outputs": [
    {
     "name": "stdout",
     "output_type": "stream",
     "text": [
      "Current Python version is: \n",
      "2.7.15 |Anaconda, Inc.| (default, May  1 2018, 18:37:05) \n",
      "[GCC 4.2.1 Compatible Clang 4.0.1 (tags/RELEASE_401/final)]\n",
      "Current directory is:\n",
      "/Users/DavidKevinChen/repos/BlockHackDe/deepRecEngine\n"
     ]
    }
   ],
   "source": [
    "__author__ = \"David Chen\"\n",
    "__credit__ = [\"David Chen\",\"Won M\",\"Derrick Wilson-Duncan\"]\n",
    "__copyright__ = \"Copyright 2018\"\n",
    "__license__ = \"GPL3.0\"\n",
    "__version__ = \"1.0.0\"\n",
    "__maintainer__ = \"David Chen\"\n",
    "__status__ = \"Production\"\n",
    "\n",
    "import os\n",
    "import sys\n",
    "import math\n",
    "import numpy as np\n",
    "import pandas as pd\n",
    "import itertools\n",
    "import pickle\n",
    "\n",
    "from sklearn.neural_network import MLPClassifier\n",
    "from sklearn.model_selection import GridSearchCV #python3\n",
    "\n",
    "print(\"Current Python version is: \")\n",
    "print(sys.version)\n",
    "\n",
    "print(\"Current directory is:\")\n",
    "print(os.getcwd())"
   ]
  },
  {
   "cell_type": "code",
   "execution_count": null,
   "metadata": {},
   "outputs": [],
   "source": []
  },
  {
   "cell_type": "code",
   "execution_count": null,
   "metadata": {},
   "outputs": [],
   "source": [
    "train_data = pd.read_csv(\"data/trainDataLogit.csv\", index_col=0);\n",
    "train_label = pd.read_csv(\"data/trainAnnot.csv\", index_col=0); \n",
    "\n",
    "test_data = pd.read_csv(\"data/testDataLogit.csv\", index_col=0);\n",
    "test_label = pd.read_csv(\"data/testAnnot.csv\", index_col=0); "
   ]
  },
  {
   "cell_type": "code",
   "execution_count": null,
   "metadata": {},
   "outputs": [],
   "source": []
  },
  {
   "cell_type": "code",
   "execution_count": null,
   "metadata": {},
   "outputs": [],
   "source": [
    "#-------------------------------------MLP/NN Grid Search-------------------------------------\n",
    "## Identify optimal parameter by grid search \n",
    "hiddenLayers = []; \n",
    "for i in np.arange(3,6):\n",
    "    hiddenLayers += [x for x in itertools.product((100,), repeat=i)]; \n",
    "\n",
    "hyperParams = {'solver':['adam','lbfgs'], 'alpha':10.0 ** -np.arange(1,4), 'hidden_layer_sizes':hiddenLayers, 'learning_rate_init':10.0 ** -np.arange(1,4)};\n",
    "print(\"Hyperparameter sets to tune by grid search:\")\n",
    "\n",
    "## Initialize model object:\n",
    "clf_grid = GridSearchCV(MLPClassifier(activation='logistic'), param_grid=hyperParams, n_jobs=-1);\n",
    "print(\"Grid-search object containing MLP/NN binary classifier has been initialized!\")\n",
    "\n",
    "## Fit model with parallel computing:\n",
    "clf_grid.fit(train_data, train_label);\n",
    "print(\"Training data fed into grid-search object! (Hyper)Parameters: \")\n",
    "print(clf_grid)\n",
    "\n",
    "## Output result to console, which will be stored in the _o/_e file:\n",
    "print(\"The best grid-search score is: %0.3f\" % clf_grid.best_score_)\n",
    "print(\" ...using following set of hyperparameters:\")\n",
    "print(clf_grid.best_params_)\n"
   ]
  },
  {
   "cell_type": "code",
   "execution_count": null,
   "metadata": {},
   "outputs": [],
   "source": [
    "#-------------------------------------Print and export CV results-------------------------------------\n",
    "df = dict(clf_grid.cv_results_);\n",
    "print(df) #feed to log\n",
    "\n",
    "print(\"Process complete!\")\n",
    "quit();"
   ]
  }
 ],
 "metadata": {
  "kernelspec": {
   "display_name": "Python 3",
   "language": "python",
   "name": "python3"
  },
  "language_info": {
   "codemirror_mode": {
    "name": "ipython",
    "version": 2
   },
   "file_extension": ".py",
   "mimetype": "text/x-python",
   "name": "python",
   "nbconvert_exporter": "python",
   "pygments_lexer": "ipython2",
   "version": "2.7.15"
  }
 },
 "nbformat": 4,
 "nbformat_minor": 2
}
